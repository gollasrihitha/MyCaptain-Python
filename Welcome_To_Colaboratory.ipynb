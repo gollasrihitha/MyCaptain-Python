{
  "cells": [
    {
      "cell_type": "markdown",
      "metadata": {
        "id": "view-in-github",
        "colab_type": "text"
      },
      "source": [
        "<a href=\"https://colab.research.google.com/github/gollasrihitha/MyCaptain-Python/blob/main/Welcome_To_Colaboratory.ipynb\" target=\"_parent\"><img src=\"https://colab.research.google.com/assets/colab-badge.svg\" alt=\"Open In Colab\"/></a>"
      ]
    },
    {
      "cell_type": "code",
      "source": [
        "import math\n",
        "r=float(input(\"input the radius of the circle:\"))\n",
        "area=math.pi*r*r\n",
        "print(\"the output of the circle with radius is\",area)"
      ],
      "metadata": {
        "colab": {
          "base_uri": "https://localhost:8080/"
        },
        "id": "8UFKyvi_Crbt",
        "outputId": "b8b91efb-9ac2-4de4-f7c3-a0535271b6a8"
      },
      "execution_count": 4,
      "outputs": [
        {
          "output_type": "stream",
          "name": "stdout",
          "text": [
            "input the radius of the circle:1.1\n",
            "the output of the circle with radius is 3.8013271108436504\n"
          ]
        }
      ]
    },
    {
      "cell_type": "code",
      "source": [
        "stack=[0,1]\n",
        "\n",
        "let last=stack.top\n",
        "let fab=last+stack.top+1\n",
        "stack pust last\n",
        "stack push fab\n",
        "\n",
        "print stack"
      ],
      "metadata": {
        "id": "CfHfvYdsEKCc",
        "outputId": "13966f58-0424-4ce1-8d25-dd2cfa1c935b",
        "colab": {
          "base_uri": "https://localhost:8080/",
          "height": 130
        }
      },
      "execution_count": 10,
      "outputs": [
        {
          "output_type": "error",
          "ename": "SyntaxError",
          "evalue": "ignored",
          "traceback": [
            "\u001b[0;36m  File \u001b[0;32m\"<ipython-input-10-69972a9ada82>\"\u001b[0;36m, line \u001b[0;32m3\u001b[0m\n\u001b[0;31m    let last=stack.top\u001b[0m\n\u001b[0m        ^\u001b[0m\n\u001b[0;31mSyntaxError\u001b[0m\u001b[0;31m:\u001b[0m invalid syntax\n"
          ]
        }
      ]
    },
    {
      "cell_type": "code",
      "source": [
        "list1=[12,-7,5,64,-14]\n",
        "print(list)\n",
        "l=[]\n",
        "for i in list1:\n",
        "  if i>0:\n",
        "    l.append(i)\n",
        "    print(l)"
      ],
      "metadata": {
        "id": "pO-ZEC5YI0iY",
        "outputId": "0f4c0303-fadf-4c94-8251-232c494e40eb",
        "colab": {
          "base_uri": "https://localhost:8080/"
        }
      },
      "execution_count": 12,
      "outputs": [
        {
          "output_type": "stream",
          "name": "stdout",
          "text": [
            "[12, -7, 5, 64, -14]\n",
            "[12]\n",
            "[12, 5]\n",
            "[12, 5, 64]\n"
          ]
        }
      ]
    }
  ],
  "metadata": {
    "colab": {
      "name": "Welcome To Colaboratory",
      "toc_visible": true,
      "provenance": [],
      "include_colab_link": true
    },
    "kernelspec": {
      "display_name": "Python 3",
      "name": "python3"
    }
  },
  "nbformat": 4,
  "nbformat_minor": 0
}