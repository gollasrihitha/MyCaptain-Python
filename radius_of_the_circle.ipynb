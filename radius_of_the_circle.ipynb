{
  "cells": [
    {
      "cell_type": "markdown",
      "metadata": {
        "id": "view-in-github",
        "colab_type": "text"
      },
      "source": [
        "<a href=\"https://colab.research.google.com/github/gollasrihitha/MyCaptain-Python/blob/main/radius_of_the_circle.ipynb\" target=\"_parent\"><img src=\"https://colab.research.google.com/assets/colab-badge.svg\" alt=\"Open In Colab\"/></a>"
      ]
    },
    {
      "cell_type": "code",
      "source": [
        "import math\n",
        "r=float(input(\"input the radius of the circle:\"))\n",
        "area=math.pi*r*r\n",
        "print(\"the output of the circle with radius is\",area)"
      ],
      "metadata": {
        "id": "0-YilWb9PkJA",
        "outputId": "b830f7cb-0d53-4ea8-e472-825e815a039d",
        "colab": {
          "base_uri": "https://localhost:8080/"
        }
      },
      "execution_count": null,
      "outputs": [
        {
          "output_type": "stream",
          "name": "stdout",
          "text": [
            "input the radius of the circle:1.1\n",
            "the output of the circle with radius is 3.8013271108436504\n"
          ]
        }
      ]
    }
  ],
  "metadata": {
    "colab": {
      "provenance": [],
      "include_colab_link": true
    },
    "kernelspec": {
      "display_name": "Python 3",
      "name": "python3"
    }
  },
  "nbformat": 4,
  "nbformat_minor": 0
}